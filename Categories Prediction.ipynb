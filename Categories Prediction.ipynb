{
 "cells": [
  {
   "cell_type": "code",
   "execution_count": 15,
   "metadata": {
    "_cell_guid": "b1076dfc-b9ad-4769-8c92-a6c4dae69d19",
    "_uuid": "8f2839f25d086af736a60e9eeb907d3b93b6e0e5"
   },
   "outputs": [],
   "source": [
    "import pandas as pd\n",
    "import matplotlib.pyplot as plt\n",
    "import numpy as np\n",
    "import json\n",
    "import seaborn as sns\n",
    "from random import randint\n",
    "from sklearn.model_selection import train_test_split\n",
    "from sklearn.ensemble import RandomForestClassifier\n",
    "from sklearn.model_selection import cross_val_score\n",
    "from sklearn.metrics import accuracy_score, f1_score\n",
    "from sklearn import preprocessing\n",
    "from sklearn.pipeline import make_pipeline\n",
    "import category_encoders as ce\n",
    "\n",
    "import nltk\n",
    "from nltk.stem import WordNetLemmatizer\n",
    "from sklearn.feature_extraction.text import CountVectorizer\n",
    "from sklearn.decomposition import LatentDirichletAllocation\n",
    "from nltk.corpus import stopwords\n",
    "\n",
    "import warnings\n",
    "warnings.filterwarnings('ignore')"
   ]
  },
  {
   "cell_type": "markdown",
   "metadata": {},
   "source": [
    "### Loading Data "
   ]
  },
  {
   "cell_type": "code",
   "execution_count": 16,
   "metadata": {},
   "outputs": [
    {
     "data": {
      "text/html": [
       "<div>\n",
       "<style scoped>\n",
       "    .dataframe tbody tr th:only-of-type {\n",
       "        vertical-align: middle;\n",
       "    }\n",
       "\n",
       "    .dataframe tbody tr th {\n",
       "        vertical-align: top;\n",
       "    }\n",
       "\n",
       "    .dataframe thead th {\n",
       "        text-align: right;\n",
       "    }\n",
       "</style>\n",
       "<table border=\"1\" class=\"dataframe\">\n",
       "  <thead>\n",
       "    <tr style=\"text-align: right;\">\n",
       "      <th></th>\n",
       "      <th>video_id</th>\n",
       "      <th>trending_date</th>\n",
       "      <th>title</th>\n",
       "      <th>channel_title</th>\n",
       "      <th>category_id</th>\n",
       "      <th>publish_time</th>\n",
       "      <th>tags</th>\n",
       "      <th>views</th>\n",
       "      <th>likes</th>\n",
       "      <th>dislikes</th>\n",
       "      <th>comment_count</th>\n",
       "      <th>thumbnail_link</th>\n",
       "      <th>comments_disabled</th>\n",
       "      <th>ratings_disabled</th>\n",
       "      <th>video_error_or_removed</th>\n",
       "      <th>description</th>\n",
       "    </tr>\n",
       "  </thead>\n",
       "  <tbody>\n",
       "    <tr>\n",
       "      <th>0</th>\n",
       "      <td>2kyS6SvSYSE</td>\n",
       "      <td>17.14.11</td>\n",
       "      <td>WE WANT TO TALK ABOUT OUR MARRIAGE</td>\n",
       "      <td>CaseyNeistat</td>\n",
       "      <td>22</td>\n",
       "      <td>2017-11-13T17:13:01.000Z</td>\n",
       "      <td>SHANtell martin</td>\n",
       "      <td>748374</td>\n",
       "      <td>57527</td>\n",
       "      <td>2966</td>\n",
       "      <td>15954</td>\n",
       "      <td>https://i.ytimg.com/vi/2kyS6SvSYSE/default.jpg</td>\n",
       "      <td>False</td>\n",
       "      <td>False</td>\n",
       "      <td>False</td>\n",
       "      <td>SHANTELL'S CHANNEL - https://www.youtube.com/s...</td>\n",
       "    </tr>\n",
       "    <tr>\n",
       "      <th>1</th>\n",
       "      <td>1ZAPwfrtAFY</td>\n",
       "      <td>17.14.11</td>\n",
       "      <td>The Trump Presidency: Last Week Tonight with J...</td>\n",
       "      <td>LastWeekTonight</td>\n",
       "      <td>24</td>\n",
       "      <td>2017-11-13T07:30:00.000Z</td>\n",
       "      <td>last week tonight trump presidency|\"last week ...</td>\n",
       "      <td>2418783</td>\n",
       "      <td>97185</td>\n",
       "      <td>6146</td>\n",
       "      <td>12703</td>\n",
       "      <td>https://i.ytimg.com/vi/1ZAPwfrtAFY/default.jpg</td>\n",
       "      <td>False</td>\n",
       "      <td>False</td>\n",
       "      <td>False</td>\n",
       "      <td>One year after the presidential election, John...</td>\n",
       "    </tr>\n",
       "    <tr>\n",
       "      <th>2</th>\n",
       "      <td>5qpjK5DgCt4</td>\n",
       "      <td>17.14.11</td>\n",
       "      <td>Racist Superman | Rudy Mancuso, King Bach &amp; Le...</td>\n",
       "      <td>Rudy Mancuso</td>\n",
       "      <td>23</td>\n",
       "      <td>2017-11-12T19:05:24.000Z</td>\n",
       "      <td>racist superman|\"rudy\"|\"mancuso\"|\"king\"|\"bach\"...</td>\n",
       "      <td>3191434</td>\n",
       "      <td>146033</td>\n",
       "      <td>5339</td>\n",
       "      <td>8181</td>\n",
       "      <td>https://i.ytimg.com/vi/5qpjK5DgCt4/default.jpg</td>\n",
       "      <td>False</td>\n",
       "      <td>False</td>\n",
       "      <td>False</td>\n",
       "      <td>WATCH MY PREVIOUS VIDEO ▶ \\n\\nSUBSCRIBE ► http...</td>\n",
       "    </tr>\n",
       "    <tr>\n",
       "      <th>3</th>\n",
       "      <td>puqaWrEC7tY</td>\n",
       "      <td>17.14.11</td>\n",
       "      <td>Nickelback Lyrics: Real or Fake?</td>\n",
       "      <td>Good Mythical Morning</td>\n",
       "      <td>24</td>\n",
       "      <td>2017-11-13T11:00:04.000Z</td>\n",
       "      <td>rhett and link|\"gmm\"|\"good mythical morning\"|\"...</td>\n",
       "      <td>343168</td>\n",
       "      <td>10172</td>\n",
       "      <td>666</td>\n",
       "      <td>2146</td>\n",
       "      <td>https://i.ytimg.com/vi/puqaWrEC7tY/default.jpg</td>\n",
       "      <td>False</td>\n",
       "      <td>False</td>\n",
       "      <td>False</td>\n",
       "      <td>Today we find out if Link is a Nickelback amat...</td>\n",
       "    </tr>\n",
       "    <tr>\n",
       "      <th>4</th>\n",
       "      <td>d380meD0W0M</td>\n",
       "      <td>17.14.11</td>\n",
       "      <td>I Dare You: GOING BALD!?</td>\n",
       "      <td>nigahiga</td>\n",
       "      <td>24</td>\n",
       "      <td>2017-11-12T18:01:41.000Z</td>\n",
       "      <td>ryan|\"higa\"|\"higatv\"|\"nigahiga\"|\"i dare you\"|\"...</td>\n",
       "      <td>2095731</td>\n",
       "      <td>132235</td>\n",
       "      <td>1989</td>\n",
       "      <td>17518</td>\n",
       "      <td>https://i.ytimg.com/vi/d380meD0W0M/default.jpg</td>\n",
       "      <td>False</td>\n",
       "      <td>False</td>\n",
       "      <td>False</td>\n",
       "      <td>I know it's been a while since we did this sho...</td>\n",
       "    </tr>\n",
       "  </tbody>\n",
       "</table>\n",
       "</div>"
      ],
      "text/plain": [
       "      video_id trending_date  \\\n",
       "0  2kyS6SvSYSE      17.14.11   \n",
       "1  1ZAPwfrtAFY      17.14.11   \n",
       "2  5qpjK5DgCt4      17.14.11   \n",
       "3  puqaWrEC7tY      17.14.11   \n",
       "4  d380meD0W0M      17.14.11   \n",
       "\n",
       "                                               title          channel_title  \\\n",
       "0                 WE WANT TO TALK ABOUT OUR MARRIAGE           CaseyNeistat   \n",
       "1  The Trump Presidency: Last Week Tonight with J...        LastWeekTonight   \n",
       "2  Racist Superman | Rudy Mancuso, King Bach & Le...           Rudy Mancuso   \n",
       "3                   Nickelback Lyrics: Real or Fake?  Good Mythical Morning   \n",
       "4                           I Dare You: GOING BALD!?               nigahiga   \n",
       "\n",
       "   category_id              publish_time  \\\n",
       "0           22  2017-11-13T17:13:01.000Z   \n",
       "1           24  2017-11-13T07:30:00.000Z   \n",
       "2           23  2017-11-12T19:05:24.000Z   \n",
       "3           24  2017-11-13T11:00:04.000Z   \n",
       "4           24  2017-11-12T18:01:41.000Z   \n",
       "\n",
       "                                                tags    views   likes  \\\n",
       "0                                    SHANtell martin   748374   57527   \n",
       "1  last week tonight trump presidency|\"last week ...  2418783   97185   \n",
       "2  racist superman|\"rudy\"|\"mancuso\"|\"king\"|\"bach\"...  3191434  146033   \n",
       "3  rhett and link|\"gmm\"|\"good mythical morning\"|\"...   343168   10172   \n",
       "4  ryan|\"higa\"|\"higatv\"|\"nigahiga\"|\"i dare you\"|\"...  2095731  132235   \n",
       "\n",
       "   dislikes  comment_count                                  thumbnail_link  \\\n",
       "0      2966          15954  https://i.ytimg.com/vi/2kyS6SvSYSE/default.jpg   \n",
       "1      6146          12703  https://i.ytimg.com/vi/1ZAPwfrtAFY/default.jpg   \n",
       "2      5339           8181  https://i.ytimg.com/vi/5qpjK5DgCt4/default.jpg   \n",
       "3       666           2146  https://i.ytimg.com/vi/puqaWrEC7tY/default.jpg   \n",
       "4      1989          17518  https://i.ytimg.com/vi/d380meD0W0M/default.jpg   \n",
       "\n",
       "   comments_disabled  ratings_disabled  video_error_or_removed  \\\n",
       "0              False             False                   False   \n",
       "1              False             False                   False   \n",
       "2              False             False                   False   \n",
       "3              False             False                   False   \n",
       "4              False             False                   False   \n",
       "\n",
       "                                         description  \n",
       "0  SHANTELL'S CHANNEL - https://www.youtube.com/s...  \n",
       "1  One year after the presidential election, John...  \n",
       "2  WATCH MY PREVIOUS VIDEO ▶ \\n\\nSUBSCRIBE ► http...  \n",
       "3  Today we find out if Link is a Nickelback amat...  \n",
       "4  I know it's been a while since we did this sho...  "
      ]
     },
     "execution_count": 16,
     "metadata": {},
     "output_type": "execute_result"
    }
   ],
   "source": [
    "US_data = pd.read_csv('../input/youtube-new/USvideos.csv')\n",
    "US_data.head()"
   ]
  },
  {
   "cell_type": "code",
   "execution_count": 17,
   "metadata": {},
   "outputs": [],
   "source": [
    "def category(path):\n",
    "    with open(path) as json_file:  \n",
    "        data = json.load(json_file)\n",
    "    category_info_list=[]\n",
    "    for row in data['items']:\n",
    "        id_info=row['id']\n",
    "        category_name=row['snippet']['title']\n",
    "        categoty_info=(id_info ,category_name)\n",
    "        category_info_list.append(categoty_info)\n",
    "    return(dict(category_info_list))"
   ]
  },
  {
   "cell_type": "code",
   "execution_count": 18,
   "metadata": {},
   "outputs": [],
   "source": [
    "US_category_names = category('../input/youtube-new/US_category_id.json')"
   ]
  },
  {
   "cell_type": "code",
   "execution_count": 19,
   "metadata": {},
   "outputs": [
    {
     "data": {
      "text/html": [
       "<div>\n",
       "<style scoped>\n",
       "    .dataframe tbody tr th:only-of-type {\n",
       "        vertical-align: middle;\n",
       "    }\n",
       "\n",
       "    .dataframe tbody tr th {\n",
       "        vertical-align: top;\n",
       "    }\n",
       "\n",
       "    .dataframe thead th {\n",
       "        text-align: right;\n",
       "    }\n",
       "</style>\n",
       "<table border=\"1\" class=\"dataframe\">\n",
       "  <thead>\n",
       "    <tr style=\"text-align: right;\">\n",
       "      <th></th>\n",
       "      <th>video_id</th>\n",
       "      <th>trending_date</th>\n",
       "      <th>title</th>\n",
       "      <th>channel_title</th>\n",
       "      <th>category_id</th>\n",
       "      <th>publish_time</th>\n",
       "      <th>tags</th>\n",
       "      <th>views</th>\n",
       "      <th>likes</th>\n",
       "      <th>dislikes</th>\n",
       "      <th>comment_count</th>\n",
       "      <th>thumbnail_link</th>\n",
       "      <th>comments_disabled</th>\n",
       "      <th>ratings_disabled</th>\n",
       "      <th>video_error_or_removed</th>\n",
       "      <th>description</th>\n",
       "      <th>category_names</th>\n",
       "    </tr>\n",
       "  </thead>\n",
       "  <tbody>\n",
       "    <tr>\n",
       "      <th>0</th>\n",
       "      <td>2kyS6SvSYSE</td>\n",
       "      <td>17.14.11</td>\n",
       "      <td>WE WANT TO TALK ABOUT OUR MARRIAGE</td>\n",
       "      <td>CaseyNeistat</td>\n",
       "      <td>22</td>\n",
       "      <td>2017-11-13T17:13:01.000Z</td>\n",
       "      <td>SHANtell martin</td>\n",
       "      <td>748374</td>\n",
       "      <td>57527</td>\n",
       "      <td>2966</td>\n",
       "      <td>15954</td>\n",
       "      <td>https://i.ytimg.com/vi/2kyS6SvSYSE/default.jpg</td>\n",
       "      <td>False</td>\n",
       "      <td>False</td>\n",
       "      <td>False</td>\n",
       "      <td>SHANTELL'S CHANNEL - https://www.youtube.com/s...</td>\n",
       "      <td>People &amp; Blogs</td>\n",
       "    </tr>\n",
       "    <tr>\n",
       "      <th>1</th>\n",
       "      <td>1ZAPwfrtAFY</td>\n",
       "      <td>17.14.11</td>\n",
       "      <td>The Trump Presidency: Last Week Tonight with J...</td>\n",
       "      <td>LastWeekTonight</td>\n",
       "      <td>24</td>\n",
       "      <td>2017-11-13T07:30:00.000Z</td>\n",
       "      <td>last week tonight trump presidency|\"last week ...</td>\n",
       "      <td>2418783</td>\n",
       "      <td>97185</td>\n",
       "      <td>6146</td>\n",
       "      <td>12703</td>\n",
       "      <td>https://i.ytimg.com/vi/1ZAPwfrtAFY/default.jpg</td>\n",
       "      <td>False</td>\n",
       "      <td>False</td>\n",
       "      <td>False</td>\n",
       "      <td>One year after the presidential election, John...</td>\n",
       "      <td>Entertainment</td>\n",
       "    </tr>\n",
       "    <tr>\n",
       "      <th>2</th>\n",
       "      <td>5qpjK5DgCt4</td>\n",
       "      <td>17.14.11</td>\n",
       "      <td>Racist Superman | Rudy Mancuso, King Bach &amp; Le...</td>\n",
       "      <td>Rudy Mancuso</td>\n",
       "      <td>23</td>\n",
       "      <td>2017-11-12T19:05:24.000Z</td>\n",
       "      <td>racist superman|\"rudy\"|\"mancuso\"|\"king\"|\"bach\"...</td>\n",
       "      <td>3191434</td>\n",
       "      <td>146033</td>\n",
       "      <td>5339</td>\n",
       "      <td>8181</td>\n",
       "      <td>https://i.ytimg.com/vi/5qpjK5DgCt4/default.jpg</td>\n",
       "      <td>False</td>\n",
       "      <td>False</td>\n",
       "      <td>False</td>\n",
       "      <td>WATCH MY PREVIOUS VIDEO ▶ \\n\\nSUBSCRIBE ► http...</td>\n",
       "      <td>Comedy</td>\n",
       "    </tr>\n",
       "    <tr>\n",
       "      <th>3</th>\n",
       "      <td>puqaWrEC7tY</td>\n",
       "      <td>17.14.11</td>\n",
       "      <td>Nickelback Lyrics: Real or Fake?</td>\n",
       "      <td>Good Mythical Morning</td>\n",
       "      <td>24</td>\n",
       "      <td>2017-11-13T11:00:04.000Z</td>\n",
       "      <td>rhett and link|\"gmm\"|\"good mythical morning\"|\"...</td>\n",
       "      <td>343168</td>\n",
       "      <td>10172</td>\n",
       "      <td>666</td>\n",
       "      <td>2146</td>\n",
       "      <td>https://i.ytimg.com/vi/puqaWrEC7tY/default.jpg</td>\n",
       "      <td>False</td>\n",
       "      <td>False</td>\n",
       "      <td>False</td>\n",
       "      <td>Today we find out if Link is a Nickelback amat...</td>\n",
       "      <td>Entertainment</td>\n",
       "    </tr>\n",
       "    <tr>\n",
       "      <th>4</th>\n",
       "      <td>d380meD0W0M</td>\n",
       "      <td>17.14.11</td>\n",
       "      <td>I Dare You: GOING BALD!?</td>\n",
       "      <td>nigahiga</td>\n",
       "      <td>24</td>\n",
       "      <td>2017-11-12T18:01:41.000Z</td>\n",
       "      <td>ryan|\"higa\"|\"higatv\"|\"nigahiga\"|\"i dare you\"|\"...</td>\n",
       "      <td>2095731</td>\n",
       "      <td>132235</td>\n",
       "      <td>1989</td>\n",
       "      <td>17518</td>\n",
       "      <td>https://i.ytimg.com/vi/d380meD0W0M/default.jpg</td>\n",
       "      <td>False</td>\n",
       "      <td>False</td>\n",
       "      <td>False</td>\n",
       "      <td>I know it's been a while since we did this sho...</td>\n",
       "      <td>Entertainment</td>\n",
       "    </tr>\n",
       "  </tbody>\n",
       "</table>\n",
       "</div>"
      ],
      "text/plain": [
       "      video_id trending_date  \\\n",
       "0  2kyS6SvSYSE      17.14.11   \n",
       "1  1ZAPwfrtAFY      17.14.11   \n",
       "2  5qpjK5DgCt4      17.14.11   \n",
       "3  puqaWrEC7tY      17.14.11   \n",
       "4  d380meD0W0M      17.14.11   \n",
       "\n",
       "                                               title          channel_title  \\\n",
       "0                 WE WANT TO TALK ABOUT OUR MARRIAGE           CaseyNeistat   \n",
       "1  The Trump Presidency: Last Week Tonight with J...        LastWeekTonight   \n",
       "2  Racist Superman | Rudy Mancuso, King Bach & Le...           Rudy Mancuso   \n",
       "3                   Nickelback Lyrics: Real or Fake?  Good Mythical Morning   \n",
       "4                           I Dare You: GOING BALD!?               nigahiga   \n",
       "\n",
       "   category_id              publish_time  \\\n",
       "0           22  2017-11-13T17:13:01.000Z   \n",
       "1           24  2017-11-13T07:30:00.000Z   \n",
       "2           23  2017-11-12T19:05:24.000Z   \n",
       "3           24  2017-11-13T11:00:04.000Z   \n",
       "4           24  2017-11-12T18:01:41.000Z   \n",
       "\n",
       "                                                tags    views   likes  \\\n",
       "0                                    SHANtell martin   748374   57527   \n",
       "1  last week tonight trump presidency|\"last week ...  2418783   97185   \n",
       "2  racist superman|\"rudy\"|\"mancuso\"|\"king\"|\"bach\"...  3191434  146033   \n",
       "3  rhett and link|\"gmm\"|\"good mythical morning\"|\"...   343168   10172   \n",
       "4  ryan|\"higa\"|\"higatv\"|\"nigahiga\"|\"i dare you\"|\"...  2095731  132235   \n",
       "\n",
       "   dislikes  comment_count                                  thumbnail_link  \\\n",
       "0      2966          15954  https://i.ytimg.com/vi/2kyS6SvSYSE/default.jpg   \n",
       "1      6146          12703  https://i.ytimg.com/vi/1ZAPwfrtAFY/default.jpg   \n",
       "2      5339           8181  https://i.ytimg.com/vi/5qpjK5DgCt4/default.jpg   \n",
       "3       666           2146  https://i.ytimg.com/vi/puqaWrEC7tY/default.jpg   \n",
       "4      1989          17518  https://i.ytimg.com/vi/d380meD0W0M/default.jpg   \n",
       "\n",
       "   comments_disabled  ratings_disabled  video_error_or_removed  \\\n",
       "0              False             False                   False   \n",
       "1              False             False                   False   \n",
       "2              False             False                   False   \n",
       "3              False             False                   False   \n",
       "4              False             False                   False   \n",
       "\n",
       "                                         description  category_names  \n",
       "0  SHANTELL'S CHANNEL - https://www.youtube.com/s...  People & Blogs  \n",
       "1  One year after the presidential election, John...   Entertainment  \n",
       "2  WATCH MY PREVIOUS VIDEO ▶ \\n\\nSUBSCRIBE ► http...          Comedy  \n",
       "3  Today we find out if Link is a Nickelback amat...   Entertainment  \n",
       "4  I know it's been a while since we did this sho...   Entertainment  "
      ]
     },
     "execution_count": 19,
     "metadata": {},
     "output_type": "execute_result"
    }
   ],
   "source": [
    "#US labels\n",
    "names=[]\n",
    "for i in US_data.category_id:\n",
    "    category_name=US_category_names.get(str(i))\n",
    "    names.append(category_name)\n",
    "\n",
    "US_data['category_names']=names\n",
    "\n",
    "US_data.head()"
   ]
  },
  {
   "cell_type": "code",
   "execution_count": 20,
   "metadata": {},
   "outputs": [
    {
     "data": {
      "text/plain": [
       "Entertainment            9964\n",
       "Music                    6472\n",
       "Howto & Style            4146\n",
       "Comedy                   3457\n",
       "People & Blogs           3210\n",
       "News & Politics          2487\n",
       "Science & Technology     2401\n",
       "Film & Animation         2345\n",
       "Sports                   2174\n",
       "Education                1656\n",
       "Pets & Animals            920\n",
       "Gaming                    817\n",
       "Travel & Events           402\n",
       "Autos & Vehicles          384\n",
       "Nonprofits & Activism      57\n",
       "Shows                      57\n",
       "Name: category_names, dtype: int64"
      ]
     },
     "execution_count": 20,
     "metadata": {},
     "output_type": "execute_result"
    }
   ],
   "source": [
    "US_data['category_names'].value_counts()"
   ]
  },
  {
   "cell_type": "markdown",
   "metadata": {},
   "source": [
    "### Column Selection"
   ]
  },
  {
   "cell_type": "code",
   "execution_count": 21,
   "metadata": {},
   "outputs": [],
   "source": [
    "def preProcessing(X):\n",
    "    X = X.copy()             \n",
    "    #Deduplicate\n",
    "    X = X.drop_duplicates(['video_id'], keep='first')\n",
    "    \n",
    "    #Remove error videos\n",
    "    X = X[X.video_error_or_removed == False]\n",
    "    \n",
    "    #Remove videos which don't have categories\n",
    "    X = X[X['category_names'].isna() == False]\n",
    "    \n",
    "    #Remove unuseful features\n",
    "    X = X.drop(columns=['video_id','trending_date','category_id','publish_time','views','likes','dislikes',\n",
    "                        'comment_count','thumbnail_link','video_error_or_removed','comments_disabled','ratings_disabled'])\n",
    "    \n",
    "    #Strings cleaning\n",
    "    X[\"clean_title\"] = X[\"title\"].str.lower()\n",
    "    X[\"clean_title\"] = X[\"clean_title\"].str.replace(r'[^\\w\\s]+', '')\n",
    "\n",
    "    X[\"clean_channel\"] = X[\"channel_title\"].str.lower()\n",
    "    X[\"clean_channel\"] = X[\"clean_channel\"].str.replace(r'[^\\w\\s]+', '')\n",
    "    \n",
    "    X[\"clean_description\"] = X[\"description\"].str.lower()\n",
    "    X[\"clean_description\"] = X[\"clean_description\"].str.replace(r'[^\\w\\s]+', '')\n",
    "\n",
    "    X[\"clean_tags\"] = X[\"tags\"].str.lower()\n",
    "    X[\"clean_tags\"] = X[\"clean_tags\"].str.replace(r'[^\\w\\s]+', '')\n",
    "    X['clean_tags'] = X['clean_tags'].str.replace(\"|\",\" \")\n",
    "    X['clean_tags'] = X['clean_tags'].str.replace('\\\"',' ')\n",
    "    \n",
    "    X = X.drop(columns=[\"tags\",\"description\",\"title\",\"channel_title\"])\n",
    "    X = X.rename(columns={'clean_title':'title', 'clean_description':'description',\n",
    "                          'clean_tags':'tags', 'clean_channel':'channel_title'})\n",
    "    \n",
    "    #NA values\n",
    "    X['description'] = X[\"description\"].fillna(\"MISSING\")\n",
    "    X['tags'] = X[\"tags\"].fillna(\"MISSING\")\n",
    "    X['title'] = X[\"title\"].fillna(\"MISSING\")\n",
    "    X['channel_title'] = X[\"channel_title\"].fillna(\"MISSING\")\n",
    "    \n",
    "    #reset index \n",
    "    X = X.reset_index(drop=True)\n",
    "    \n",
    "    return X"
   ]
  },
  {
   "cell_type": "code",
   "execution_count": 22,
   "metadata": {},
   "outputs": [
    {
     "data": {
      "text/html": [
       "<div>\n",
       "<style scoped>\n",
       "    .dataframe tbody tr th:only-of-type {\n",
       "        vertical-align: middle;\n",
       "    }\n",
       "\n",
       "    .dataframe tbody tr th {\n",
       "        vertical-align: top;\n",
       "    }\n",
       "\n",
       "    .dataframe thead th {\n",
       "        text-align: right;\n",
       "    }\n",
       "</style>\n",
       "<table border=\"1\" class=\"dataframe\">\n",
       "  <thead>\n",
       "    <tr style=\"text-align: right;\">\n",
       "      <th></th>\n",
       "      <th>category_names</th>\n",
       "      <th>title</th>\n",
       "      <th>channel_title</th>\n",
       "      <th>description</th>\n",
       "      <th>tags</th>\n",
       "    </tr>\n",
       "  </thead>\n",
       "  <tbody>\n",
       "    <tr>\n",
       "      <th>0</th>\n",
       "      <td>People &amp; Blogs</td>\n",
       "      <td>we want to talk about our marriage</td>\n",
       "      <td>caseyneistat</td>\n",
       "      <td>shantells channel  httpswwwyoutubecomshantellm...</td>\n",
       "      <td>shantell martin</td>\n",
       "    </tr>\n",
       "    <tr>\n",
       "      <th>1</th>\n",
       "      <td>Entertainment</td>\n",
       "      <td>the trump presidency last week tonight with jo...</td>\n",
       "      <td>lastweektonight</td>\n",
       "      <td>one year after the presidential election john ...</td>\n",
       "      <td>last week tonight trump presidencylast week to...</td>\n",
       "    </tr>\n",
       "    <tr>\n",
       "      <th>2</th>\n",
       "      <td>Comedy</td>\n",
       "      <td>racist superman  rudy mancuso king bach  lele ...</td>\n",
       "      <td>rudy mancuso</td>\n",
       "      <td>watch my previous video  nnsubscribe  httpswww...</td>\n",
       "      <td>racist supermanrudymancusokingbachracistsuperm...</td>\n",
       "    </tr>\n",
       "    <tr>\n",
       "      <th>3</th>\n",
       "      <td>Entertainment</td>\n",
       "      <td>nickelback lyrics real or fake</td>\n",
       "      <td>good mythical morning</td>\n",
       "      <td>today we find out if link is a nickelback amat...</td>\n",
       "      <td>rhett and linkgmmgood mythical morningrhett an...</td>\n",
       "    </tr>\n",
       "    <tr>\n",
       "      <th>4</th>\n",
       "      <td>Entertainment</td>\n",
       "      <td>i dare you going bald</td>\n",
       "      <td>nigahiga</td>\n",
       "      <td>i know its been a while since we did this show...</td>\n",
       "      <td>ryanhigahigatvnigahigai dare youidyrhpcdaresno...</td>\n",
       "    </tr>\n",
       "  </tbody>\n",
       "</table>\n",
       "</div>"
      ],
      "text/plain": [
       "   category_names                                              title  \\\n",
       "0  People & Blogs                 we want to talk about our marriage   \n",
       "1   Entertainment  the trump presidency last week tonight with jo...   \n",
       "2          Comedy  racist superman  rudy mancuso king bach  lele ...   \n",
       "3   Entertainment                     nickelback lyrics real or fake   \n",
       "4   Entertainment                              i dare you going bald   \n",
       "\n",
       "           channel_title                                        description  \\\n",
       "0           caseyneistat  shantells channel  httpswwwyoutubecomshantellm...   \n",
       "1        lastweektonight  one year after the presidential election john ...   \n",
       "2           rudy mancuso  watch my previous video  nnsubscribe  httpswww...   \n",
       "3  good mythical morning  today we find out if link is a nickelback amat...   \n",
       "4               nigahiga  i know its been a while since we did this show...   \n",
       "\n",
       "                                                tags  \n",
       "0                                    shantell martin  \n",
       "1  last week tonight trump presidencylast week to...  \n",
       "2  racist supermanrudymancusokingbachracistsuperm...  \n",
       "3  rhett and linkgmmgood mythical morningrhett an...  \n",
       "4  ryanhigahigatvnigahigai dare youidyrhpcdaresno...  "
      ]
     },
     "execution_count": 22,
     "metadata": {},
     "output_type": "execute_result"
    }
   ],
   "source": [
    "data=preProcessing(US_data)\n",
    "data.head()"
   ]
  },
  {
   "cell_type": "code",
   "execution_count": 23,
   "metadata": {},
   "outputs": [
    {
     "data": {
      "text/plain": [
       "Entertainment            1617\n",
       "Music                     799\n",
       "Howto & Style             595\n",
       "Comedy                    547\n",
       "News & Politics           505\n",
       "People & Blogs            498\n",
       "Sports                    451\n",
       "Science & Technology      380\n",
       "Film & Animation          317\n",
       "Education                 250\n",
       "Pets & Animals            138\n",
       "Gaming                    103\n",
       "Autos & Vehicles           70\n",
       "Travel & Events            60\n",
       "Nonprofits & Activism      14\n",
       "Shows                       4\n",
       "Name: category_names, dtype: int64"
      ]
     },
     "execution_count": 23,
     "metadata": {},
     "output_type": "execute_result"
    }
   ],
   "source": [
    "data['category_names'].value_counts()"
   ]
  },
  {
   "cell_type": "code",
   "execution_count": 24,
   "metadata": {},
   "outputs": [
    {
     "data": {
      "text/plain": [
       "Entertainment            0.254726\n",
       "Music                    0.125866\n",
       "Howto & Style            0.093730\n",
       "Comedy                   0.086169\n",
       "News & Politics          0.079553\n",
       "People & Blogs           0.078450\n",
       "Sports                   0.071046\n",
       "Science & Technology     0.059861\n",
       "Film & Animation         0.049937\n",
       "Education                0.039382\n",
       "Pets & Animals           0.021739\n",
       "Gaming                   0.016226\n",
       "Autos & Vehicles         0.011027\n",
       "Travel & Events          0.009452\n",
       "Nonprofits & Activism    0.002205\n",
       "Shows                    0.000630\n",
       "Name: category_names, dtype: float64"
      ]
     },
     "execution_count": 24,
     "metadata": {},
     "output_type": "execute_result"
    }
   ],
   "source": [
    "data['category_names'].value_counts(normalize=True)"
   ]
  },
  {
   "cell_type": "markdown",
   "metadata": {},
   "source": [
    "### Feature Extraction - Description"
   ]
  },
  {
   "cell_type": "code",
   "execution_count": 25,
   "metadata": {},
   "outputs": [
    {
     "data": {
      "text/html": [
       "<div>\n",
       "<style scoped>\n",
       "    .dataframe tbody tr th:only-of-type {\n",
       "        vertical-align: middle;\n",
       "    }\n",
       "\n",
       "    .dataframe tbody tr th {\n",
       "        vertical-align: top;\n",
       "    }\n",
       "\n",
       "    .dataframe thead th {\n",
       "        text-align: right;\n",
       "    }\n",
       "</style>\n",
       "<table border=\"1\" class=\"dataframe\">\n",
       "  <thead>\n",
       "    <tr style=\"text-align: right;\">\n",
       "      <th></th>\n",
       "      <th>0</th>\n",
       "    </tr>\n",
       "  </thead>\n",
       "  <tbody>\n",
       "    <tr>\n",
       "      <th>the</th>\n",
       "      <td>25513</td>\n",
       "    </tr>\n",
       "    <tr>\n",
       "      <th>and</th>\n",
       "      <td>15435</td>\n",
       "    </tr>\n",
       "    <tr>\n",
       "      <th>to</th>\n",
       "      <td>14570</td>\n",
       "    </tr>\n",
       "    <tr>\n",
       "      <th>on</th>\n",
       "      <td>12265</td>\n",
       "    </tr>\n",
       "    <tr>\n",
       "      <th>of</th>\n",
       "      <td>10281</td>\n",
       "    </tr>\n",
       "  </tbody>\n",
       "</table>\n",
       "</div>"
      ],
      "text/plain": [
       "         0\n",
       "the  25513\n",
       "and  15435\n",
       "to   14570\n",
       "on   12265\n",
       "of   10281"
      ]
     },
     "execution_count": 25,
     "metadata": {},
     "output_type": "execute_result"
    }
   ],
   "source": [
    "words = pd.DataFrame(pd.Series(' '.join(data['description']).split()).value_counts()[:200])\n",
    "words.head()"
   ]
  },
  {
   "cell_type": "code",
   "execution_count": 26,
   "metadata": {},
   "outputs": [],
   "source": [
    "# NLTK Stop words\n",
    "words = words.reset_index()\n",
    "words = words.rename(columns={\"index\":\"word\", \"0\":\"count\"})\n",
    "\n",
    "stop_words = stopwords.words('english')\n",
    "stop_words.extend(['from', 'subject', 're', 'edu', 'use','follow', 'http', 'www', 'facebook',\n",
    "                   'instagram','twitter', 'youtube','channel','subscribe','video','subscribers', 'like'])\n",
    "tops = list(set(words.word)-set(stop_words))\n",
    "#Add other potential meaningless words (top words in description) to stop words\n",
    "stop_words.extend(tops)"
   ]
  },
  {
   "cell_type": "code",
   "execution_count": 27,
   "metadata": {},
   "outputs": [
    {
     "name": "stdout",
     "output_type": "stream",
     "text": [
      "Shape: (6348, 81502)\n"
     ]
    }
   ],
   "source": [
    "vectorizer = CountVectorizer(stop_words = stop_words)\n",
    "\n",
    "token_counts = vectorizer.fit_transform(data['description'])\n",
    "\n",
    "print('Shape: {}'.format(token_counts.shape))"
   ]
  },
  {
   "cell_type": "code",
   "execution_count": 28,
   "metadata": {},
   "outputs": [
    {
     "data": {
      "text/plain": [
       "LatentDirichletAllocation(batch_size=128, doc_topic_prior=None,\n",
       "                          evaluate_every=-1, learning_decay=0.7,\n",
       "                          learning_method='batch', learning_offset=10.0,\n",
       "                          max_doc_update_iter=100, max_iter=10,\n",
       "                          mean_change_tol=0.001, n_components=16, n_jobs=None,\n",
       "                          perp_tol=0.1, random_state=None,\n",
       "                          topic_word_prior=None, total_samples=1000000.0,\n",
       "                          verbose=0)"
      ]
     },
     "execution_count": 28,
     "metadata": {},
     "output_type": "execute_result"
    }
   ],
   "source": [
    "n_topics = 16\n",
    "lda = LatentDirichletAllocation(n_components=n_topics)\n",
    "lda.fit(token_counts)"
   ]
  },
  {
   "cell_type": "code",
   "execution_count": 29,
   "metadata": {},
   "outputs": [],
   "source": [
    "#Top 10 words for each Category \n",
    "def print_top_words(model, feature_names, n_top_words=10):\n",
    "    for topic_idx, topic in enumerate(model.components_):\n",
    "        message = \"Topic #%d: \" % topic_idx\n",
    "        message += \" \".join([feature_names[i]\n",
    "                             for i in topic.argsort()[:-n_top_words - 1:-1]])\n",
    "        print(message)\n",
    "    print()"
   ]
  },
  {
   "cell_type": "code",
   "execution_count": 30,
   "metadata": {},
   "outputs": [
    {
     "name": "stdout",
     "output_type": "stream",
     "text": [
      "\n",
      "Topics in LDA model:\n",
      "Topic #0: chappell warner studios pons stocking jibawi mancuso watching sarkis previous\n",
      "Topic #1: nfollow christmas snl youll thank behind great scenes including fox\n",
      "Topic #2: morning members million wwe trailer network hours leading including culture\n",
      "Topic #3: warner react chappell fine director assistant coordinator brothers podcast sometimes\n",
      "Topic #4: bon wwhl vogue fashion bravo peterson never bloom havent appétit\n",
      "Topic #5: seth stephen colbert pm space access funny celebrities bits meyers\n",
      "Topic #6: tom jennifer tweets channing mean tatum kimmels lie host idol\n",
      "Topic #7: wars nail vanity fair camera phone cnbc lens art nails\n",
      "Topic #8: cat simons fort challenge features league adam team coaches vox\n",
      "Topic #9: corden musical guests sketches house march room behindthescenes host become\n",
      "Topic #10: link mythical cw marvel gmm part spotify 100 riverdale send\n",
      "Topic #11: cake bbc missing century 20th earth fox pop kuwtk chocolate\n",
      "Topic #12: wired network patreon kevin behind movies app river scenes john\n",
      "Topic #13: espn nba refinery29 football basketball mlb coverage college ncaa scores\n",
      "Topic #14: tmz conan disney times battle cbc national sync breaking access\n",
      "Topic #15: foundation palette cosmetics lip products powder perfect brow dude concealer\n",
      "\n"
     ]
    }
   ],
   "source": [
    "print(\"\\nTopics in LDA model:\")\n",
    "tf_feature_names = vectorizer.get_feature_names()\n",
    "print_top_words(lda, tf_feature_names)"
   ]
  },
  {
   "cell_type": "code",
   "execution_count": 31,
   "metadata": {},
   "outputs": [
    {
     "name": "stdout",
     "output_type": "stream",
     "text": [
      "old: (6348, 5)\n",
      "new: (6348, 21)\n",
      "\n"
     ]
    }
   ],
   "source": [
    "col_names = [\"Desc. Topic {0}\".format(x) for x in range(0, n_topics)]\n",
    "topic_dist = lda.transform(token_counts)\n",
    "topic_df = pd.DataFrame(topic_dist, columns = col_names)\n",
    "\n",
    "data_description_featured = pd.concat([data, topic_df], axis=1)\n",
    "\n",
    "print(f'old: {data.shape}')\n",
    "print(f'new: {data_description_featured.shape}\\n')"
   ]
  },
  {
   "cell_type": "markdown",
   "metadata": {},
   "source": [
    "### Feature Extraction - Title"
   ]
  },
  {
   "cell_type": "code",
   "execution_count": 32,
   "metadata": {},
   "outputs": [
    {
     "name": "stdout",
     "output_type": "stream",
     "text": [
      "Shape: (6348, 10672)\n"
     ]
    }
   ],
   "source": [
    "words_title = pd.DataFrame(pd.Series(' '.join(data['title']).split()).value_counts()[:50])\n",
    "words_title = words_title.reset_index()\n",
    "words_title = words_title.rename(columns={\"index\":\"word\", \"0\":\"count\"})\n",
    "stop_words_title = stopwords.words('english')\n",
    "tops_title = list(set(words_title.word)-set(stop_words_title))\n",
    "stop_words_title.extend(['2018','10','2017','7','la','2','1','6','4','5','3','video'])\n",
    "vectorizer_title = CountVectorizer(stop_words = stop_words_title)\n",
    "\n",
    "token_counts_title  = vectorizer_title.fit_transform(data['title'])\n",
    "\n",
    "print('Shape: {}'.format(token_counts_title.shape))"
   ]
  },
  {
   "cell_type": "code",
   "execution_count": 33,
   "metadata": {},
   "outputs": [
    {
     "name": "stdout",
     "output_type": "stream",
     "text": [
      "\n",
      "Topics in LDA model:\n",
      "Topic #0: love official show school graham norton audio shooting chris ft\n",
      "Topic #1: cake royal doctor line chocolate wedding christmas old ft trump\n",
      "Topic #2: vs new honest trailers espn news james mean talk game\n",
      "Topic #3: first live take time espn stephen smith look perfect youtube\n",
      "Topic #4: trailer official hd netflix teaser season ft hot life kardashian\n",
      "Topic #5: new official falcon heavy day lyric music see space audio\n",
      "Topic #6: everything minutes wrong diy justice league james less fashion ronan\n",
      "Topic #7: makeup ever beauty tutorial cat lip day every refinery29 best\n",
      "Topic #8: things fox president weird top century stranger 20th march trump\n",
      "Topic #9: super bowl official commercial black olympics winter make feat cooking\n",
      "Topic #10: war questions infinity avengers ed official big sheeran marvel wired\n",
      "Topic #11: official music audio show hannah ft train david react stocking\n",
      "Topic #12: star wars last vs jedi week game get movie highlights\n",
      "Topic #13: top night plays vs highlights nfl john best champions raw\n",
      "Topic #14: challenge full makeup news christmas house cabello camila prince meghan\n",
      "Topic #15: live test hair pons lele kitchen ft mv lyric basics\n",
      "\n"
     ]
    }
   ],
   "source": [
    "lda_title = LatentDirichletAllocation(n_components=n_topics)\n",
    "lda_title.fit(token_counts_title)\n",
    "print(\"\\nTopics in LDA model:\")\n",
    "tf_feature_names = vectorizer_title.get_feature_names()\n",
    "print_top_words(lda_title, tf_feature_names)"
   ]
  },
  {
   "cell_type": "code",
   "execution_count": 34,
   "metadata": {},
   "outputs": [
    {
     "name": "stdout",
     "output_type": "stream",
     "text": [
      "old: (6348, 21)\n",
      "new: (6348, 37)\n",
      "\n"
     ]
    }
   ],
   "source": [
    "col_names = [\"Title Topic {0}\".format(x) for x in range(0, n_topics)]\n",
    "topic_dist = lda_title.transform(token_counts_title)\n",
    "topic_df = pd.DataFrame(topic_dist, columns = col_names)\n",
    "\n",
    "data_title_featured = pd.concat([data_description_featured, topic_df], axis=1)\n",
    "\n",
    "print(f'old: {data_description_featured.shape}')\n",
    "print(f'new: {data_title_featured.shape}\\n')"
   ]
  },
  {
   "cell_type": "markdown",
   "metadata": {},
   "source": [
    "### Feature Extraction - Tags"
   ]
  },
  {
   "cell_type": "code",
   "execution_count": 35,
   "metadata": {},
   "outputs": [
    {
     "name": "stdout",
     "output_type": "stream",
     "text": [
      "Shape: (6348, 52268)\n"
     ]
    }
   ],
   "source": [
    "words_tags = pd.DataFrame(pd.Series(' '.join(data['title']).split()).value_counts()[:100])\n",
    "words_tags = words_tags.reset_index()\n",
    "words_tags = words_tags.rename(columns={\"index\":\"word\", \"0\":\"count\"})\n",
    "stop_words_tags = stopwords.words('english')\n",
    "tops_tags = list(set(words_tags.word)-set(stop_words_tags))\n",
    "stop_words_tags.extend(['2018','10','2017','7','la','2','1','6','4','5','3','video'])\n",
    "vectorizer_tags = CountVectorizer(stop_words = stop_words_tags)\n",
    "\n",
    "token_counts_tags  = vectorizer_tags.fit_transform(data['tags'])\n",
    "\n",
    "print('Shape: {}'.format(token_counts_tags.shape))"
   ]
  },
  {
   "cell_type": "code",
   "execution_count": 36,
   "metadata": {},
   "outputs": [
    {
     "name": "stdout",
     "output_type": "stream",
     "text": [
      "\n",
      "Topics in LDA model:\n",
      "Topic #0: none smith youtubeyoutube music smithwill life league dashboard vs new\n",
      "Topic #1: norton graham vs night show happens perry make pro full\n",
      "Topic #2: life noggin original netflixtrailernetflix seriesnetflix nogginlife onlinetelevision seriestelevisionmoviesstreamingmovies harris onlinedocumentarycomedydrama08282016ntflxuscanwatch\n",
      "Topic #3: wars last perfect star jedi bottle seth meyershostpromosethmeyersweekend showcomedyhumorstandupparodysnl updatenews\n",
      "Topic #4: latest newshappening clark nail alex professionsean feastfwffirstwefeastfoodfood beercomplexcomplex mediacook porncookcookingchefkitchenrecipecocktailbartendercraft\n",
      "Topic #5: bowl vs super game panther official food street script music\n",
      "Topic #6: mythical link rhett taste cat morning good linkmythical morningrhett morninggood\n",
      "Topic #7: newse wrestling डबल ईमचसपरसटरवयवसयक wweworld entertainmentwrestlingwrestlerwrestlesuperstarsकशतपहलवनडबल leave koshy entertainment news\n",
      "Topic #8: show react first brothers brothersfine today reactparents reactkids reactteens harry\n",
      "Topic #9: late videofunny showstephen showlate nighttalk night nightlate lettermancomedianimpressionscbsjokejokesfunnyfunny colbertcolbertlate showlettermandavid\n",
      "Topic #10: make face vs national martin music hale year press hader\n",
      "Topic #11: makeup vs videosfunny kim showjames showcomedycomediancelebritycelebcelebritiescbsjokejokesfunnyfunny cordencordenlate ipad room cake\n",
      "Topic #12: voice tonight tvtelevisionfunnytalk standupfallon monologuetonightshowjokesfunny videointerviewvarietycomedy showcomedichumorsnlfallon showjimmy take james\n",
      "Topic #13: ellen fansellen degeneresthe showellen ticketsellentubeellen episode degeneres 15 ellenellen kardashian\n",
      "Topic #14: take smithstephen first espnespn school makeup smith dailyfirst astephen takefirst\n",
      "Topic #15: s9 galaxy music conan show got cake talent tv slow\n",
      "\n"
     ]
    }
   ],
   "source": [
    "lda_tags = LatentDirichletAllocation(n_components=n_topics)\n",
    "lda_tags.fit(token_counts_tags)\n",
    "print(\"\\nTopics in LDA model:\")\n",
    "tf_feature_names = vectorizer_tags.get_feature_names()\n",
    "print_top_words(lda_tags, tf_feature_names)"
   ]
  },
  {
   "cell_type": "code",
   "execution_count": 37,
   "metadata": {},
   "outputs": [
    {
     "name": "stdout",
     "output_type": "stream",
     "text": [
      "old: (6348, 37)\n",
      "new: (6348, 53)\n",
      "\n"
     ]
    }
   ],
   "source": [
    "col_names = [\"Tags Topic {0}\".format(x) for x in range(0, n_topics)]\n",
    "topic_dist = lda_tags.transform(token_counts_tags)\n",
    "topic_df = pd.DataFrame(topic_dist, columns = col_names)\n",
    "\n",
    "data_tags_featured = pd.concat([data_title_featured, topic_df], axis=1)\n",
    "\n",
    "print(f'old: {data_title_featured.shape}')\n",
    "print(f'new: {data_tags_featured.shape}\\n')"
   ]
  },
  {
   "cell_type": "markdown",
   "metadata": {},
   "source": [
    "### Feature Extraction - Channels"
   ]
  },
  {
   "cell_type": "code",
   "execution_count": 38,
   "metadata": {},
   "outputs": [
    {
     "name": "stdout",
     "output_type": "stream",
     "text": [
      "Shape: (6348, 2883)\n"
     ]
    }
   ],
   "source": [
    "stop_words_channel = stopwords.words('english')\n",
    "vectorizer_channel = CountVectorizer(stop_words = stop_words_channel)\n",
    "\n",
    "token_counts_channel  = vectorizer_channel.fit_transform(data['channel_title'])\n",
    "\n",
    "print('Shape: {}'.format(token_counts_channel.shape))"
   ]
  },
  {
   "cell_type": "code",
   "execution_count": 39,
   "metadata": {},
   "outputs": [
    {
     "name": "stdout",
     "output_type": "stream",
     "text": [
      "\n",
      "Topics in LDA model:\n",
      "Topic #0: assassins diablo clippers der attempting 980027 bieber behavioral delivering bellator\n",
      "Topic #1: brief costume blackout alina acne 1997 diamond beefbot airplanes buddies\n",
      "Topic #2: cass barry cell board adam cheddar conference abovitz caramel 1975\n",
      "Topic #3: 981575 discipline daily akkai bizarre 1977 briefly bialik avoid britney\n",
      "Topic #4: cha bekah authority dish dated clothing cypress baseball amtrak 7hechamp10ns\n",
      "Topic #5: brought chases adas ces blackout balvin 25 aliens curious containing\n",
      "Topic #6: costume brief aiy cuban detected dipclip biden basically bei bicycle\n",
      "Topic #7: ask chancegiving audifootball 60 20171116 calls chamber charlie 20k dinner\n",
      "Topic #8: costume decide attempts cruelty blume challenge debunks clans 81 calculator\n",
      "Topic #9: darren 35735 collide dec coastline continues al 34c3 allstars ciara\n",
      "Topic #10: characteristics deutsche capitals cookie brief connects buddies champ disguise deals\n",
      "Topic #11: 44 critic bathe cumberbatch contracts bond chad billy armie deal\n",
      "Topic #12: aimee audioanimatronic autumn context dances couric centipede charity athletic ask\n",
      "Topic #13: bing clans 804 dew dame aired crappy 9789383 daisy alex\n",
      "Topic #14: buddies blume boyz despacito collector bedtime culpa account 90s difficult\n",
      "Topic #15: champagne ayesha 1145 bracelet chad coffin 35735 acne acting 06\n",
      "\n"
     ]
    }
   ],
   "source": [
    "lda_channel = LatentDirichletAllocation(n_components=n_topics)\n",
    "lda_channel.fit(token_counts_channel)\n",
    "print(\"\\nTopics in LDA model:\")\n",
    "tf_feature_names = vectorizer_title.get_feature_names()\n",
    "print_top_words(lda_channel, tf_feature_names)"
   ]
  },
  {
   "cell_type": "code",
   "execution_count": 40,
   "metadata": {},
   "outputs": [
    {
     "name": "stdout",
     "output_type": "stream",
     "text": [
      "old: (6348, 53)\n",
      "new: (6348, 69)\n",
      "\n"
     ]
    }
   ],
   "source": [
    "col_names = [\"Channel Topic {0}\".format(x) for x in range(0, n_topics)]\n",
    "topic_dist = lda_channel.transform(token_counts_channel)\n",
    "topic_df = pd.DataFrame(topic_dist, columns = col_names)\n",
    "\n",
    "data_channel_featured = pd.concat([data_tags_featured, topic_df], axis=1)\n",
    "\n",
    "print(f'old: {data_tags_featured.shape}')\n",
    "print(f'new: {data_channel_featured.shape}\\n')"
   ]
  },
  {
   "cell_type": "markdown",
   "metadata": {},
   "source": [
    "### Drop original columns after extraction"
   ]
  },
  {
   "cell_type": "code",
   "execution_count": 41,
   "metadata": {},
   "outputs": [],
   "source": [
    "df = data_channel_featured.drop(columns=['tags','title','description','channel_title'])"
   ]
  },
  {
   "cell_type": "markdown",
   "metadata": {},
   "source": [
    "### Training - Random Forest"
   ]
  },
  {
   "cell_type": "code",
   "execution_count": 42,
   "metadata": {},
   "outputs": [
    {
     "data": {
      "text/plain": [
       "((5078, 65), (1270, 65))"
      ]
     },
     "execution_count": 42,
     "metadata": {},
     "output_type": "execute_result"
    }
   ],
   "source": [
    "X_train, X_test = train_test_split(df, test_size=0.2)\n",
    "\n",
    "X_train.shape, X_test.shape"
   ]
  },
  {
   "cell_type": "code",
   "execution_count": 43,
   "metadata": {},
   "outputs": [],
   "source": [
    "label = 'category_names'\n",
    "features = df.columns\n",
    "\n",
    "y_test = X_test[label]\n",
    "y_train = X_train[label]\n",
    "\n",
    "X_train = X_train.drop(columns=label)\n",
    "X_test = X_test.drop(columns=label)"
   ]
  },
  {
   "cell_type": "code",
   "execution_count": 44,
   "metadata": {},
   "outputs": [
    {
     "data": {
      "text/html": [
       "<div>\n",
       "<style scoped>\n",
       "    .dataframe tbody tr th:only-of-type {\n",
       "        vertical-align: middle;\n",
       "    }\n",
       "\n",
       "    .dataframe tbody tr th {\n",
       "        vertical-align: top;\n",
       "    }\n",
       "\n",
       "    .dataframe thead th {\n",
       "        text-align: right;\n",
       "    }\n",
       "</style>\n",
       "<table border=\"1\" class=\"dataframe\">\n",
       "  <thead>\n",
       "    <tr style=\"text-align: right;\">\n",
       "      <th></th>\n",
       "      <th>Desc. Topic 0</th>\n",
       "      <th>Desc. Topic 1</th>\n",
       "      <th>Desc. Topic 2</th>\n",
       "      <th>Desc. Topic 3</th>\n",
       "      <th>Desc. Topic 4</th>\n",
       "      <th>Desc. Topic 5</th>\n",
       "      <th>Desc. Topic 6</th>\n",
       "      <th>Desc. Topic 7</th>\n",
       "      <th>Desc. Topic 8</th>\n",
       "      <th>Desc. Topic 9</th>\n",
       "      <th>...</th>\n",
       "      <th>Channel Topic 6</th>\n",
       "      <th>Channel Topic 7</th>\n",
       "      <th>Channel Topic 8</th>\n",
       "      <th>Channel Topic 9</th>\n",
       "      <th>Channel Topic 10</th>\n",
       "      <th>Channel Topic 11</th>\n",
       "      <th>Channel Topic 12</th>\n",
       "      <th>Channel Topic 13</th>\n",
       "      <th>Channel Topic 14</th>\n",
       "      <th>Channel Topic 15</th>\n",
       "    </tr>\n",
       "  </thead>\n",
       "  <tbody>\n",
       "    <tr>\n",
       "      <th>4985</th>\n",
       "      <td>0.002604</td>\n",
       "      <td>0.002604</td>\n",
       "      <td>0.002604</td>\n",
       "      <td>0.002604</td>\n",
       "      <td>0.002604</td>\n",
       "      <td>0.002604</td>\n",
       "      <td>0.002604</td>\n",
       "      <td>0.002604</td>\n",
       "      <td>0.002604</td>\n",
       "      <td>0.002604</td>\n",
       "      <td>...</td>\n",
       "      <td>0.020833</td>\n",
       "      <td>0.020833</td>\n",
       "      <td>0.020833</td>\n",
       "      <td>0.020833</td>\n",
       "      <td>0.020833</td>\n",
       "      <td>0.020833</td>\n",
       "      <td>0.020833</td>\n",
       "      <td>0.020833</td>\n",
       "      <td>0.687500</td>\n",
       "      <td>0.020833</td>\n",
       "    </tr>\n",
       "    <tr>\n",
       "      <th>5936</th>\n",
       "      <td>0.000919</td>\n",
       "      <td>0.000919</td>\n",
       "      <td>0.000919</td>\n",
       "      <td>0.000919</td>\n",
       "      <td>0.605385</td>\n",
       "      <td>0.000919</td>\n",
       "      <td>0.000919</td>\n",
       "      <td>0.381748</td>\n",
       "      <td>0.000919</td>\n",
       "      <td>0.000919</td>\n",
       "      <td>...</td>\n",
       "      <td>0.031250</td>\n",
       "      <td>0.031250</td>\n",
       "      <td>0.531250</td>\n",
       "      <td>0.031250</td>\n",
       "      <td>0.031250</td>\n",
       "      <td>0.031250</td>\n",
       "      <td>0.031250</td>\n",
       "      <td>0.031250</td>\n",
       "      <td>0.031250</td>\n",
       "      <td>0.031250</td>\n",
       "    </tr>\n",
       "    <tr>\n",
       "      <th>2325</th>\n",
       "      <td>0.001488</td>\n",
       "      <td>0.110990</td>\n",
       "      <td>0.001488</td>\n",
       "      <td>0.001488</td>\n",
       "      <td>0.001488</td>\n",
       "      <td>0.001488</td>\n",
       "      <td>0.001488</td>\n",
       "      <td>0.868176</td>\n",
       "      <td>0.001488</td>\n",
       "      <td>0.001488</td>\n",
       "      <td>...</td>\n",
       "      <td>0.020833</td>\n",
       "      <td>0.020833</td>\n",
       "      <td>0.020833</td>\n",
       "      <td>0.020833</td>\n",
       "      <td>0.020833</td>\n",
       "      <td>0.020833</td>\n",
       "      <td>0.020833</td>\n",
       "      <td>0.020833</td>\n",
       "      <td>0.020833</td>\n",
       "      <td>0.020833</td>\n",
       "    </tr>\n",
       "    <tr>\n",
       "      <th>1850</th>\n",
       "      <td>0.002976</td>\n",
       "      <td>0.002976</td>\n",
       "      <td>0.002976</td>\n",
       "      <td>0.002976</td>\n",
       "      <td>0.002976</td>\n",
       "      <td>0.002976</td>\n",
       "      <td>0.002976</td>\n",
       "      <td>0.002976</td>\n",
       "      <td>0.002976</td>\n",
       "      <td>0.002976</td>\n",
       "      <td>...</td>\n",
       "      <td>0.020833</td>\n",
       "      <td>0.020833</td>\n",
       "      <td>0.687500</td>\n",
       "      <td>0.020833</td>\n",
       "      <td>0.020833</td>\n",
       "      <td>0.020833</td>\n",
       "      <td>0.020833</td>\n",
       "      <td>0.020833</td>\n",
       "      <td>0.020833</td>\n",
       "      <td>0.020833</td>\n",
       "    </tr>\n",
       "    <tr>\n",
       "      <th>2330</th>\n",
       "      <td>0.001838</td>\n",
       "      <td>0.001838</td>\n",
       "      <td>0.001838</td>\n",
       "      <td>0.001838</td>\n",
       "      <td>0.001838</td>\n",
       "      <td>0.001838</td>\n",
       "      <td>0.001838</td>\n",
       "      <td>0.001838</td>\n",
       "      <td>0.001838</td>\n",
       "      <td>0.001838</td>\n",
       "      <td>...</td>\n",
       "      <td>0.031250</td>\n",
       "      <td>0.031250</td>\n",
       "      <td>0.031250</td>\n",
       "      <td>0.031250</td>\n",
       "      <td>0.031250</td>\n",
       "      <td>0.031250</td>\n",
       "      <td>0.031250</td>\n",
       "      <td>0.031250</td>\n",
       "      <td>0.031250</td>\n",
       "      <td>0.531250</td>\n",
       "    </tr>\n",
       "  </tbody>\n",
       "</table>\n",
       "<p>5 rows × 64 columns</p>\n",
       "</div>"
      ],
      "text/plain": [
       "      Desc. Topic 0  Desc. Topic 1  Desc. Topic 2  Desc. Topic 3  \\\n",
       "4985       0.002604       0.002604       0.002604       0.002604   \n",
       "5936       0.000919       0.000919       0.000919       0.000919   \n",
       "2325       0.001488       0.110990       0.001488       0.001488   \n",
       "1850       0.002976       0.002976       0.002976       0.002976   \n",
       "2330       0.001838       0.001838       0.001838       0.001838   \n",
       "\n",
       "      Desc. Topic 4  Desc. Topic 5  Desc. Topic 6  Desc. Topic 7  \\\n",
       "4985       0.002604       0.002604       0.002604       0.002604   \n",
       "5936       0.605385       0.000919       0.000919       0.381748   \n",
       "2325       0.001488       0.001488       0.001488       0.868176   \n",
       "1850       0.002976       0.002976       0.002976       0.002976   \n",
       "2330       0.001838       0.001838       0.001838       0.001838   \n",
       "\n",
       "      Desc. Topic 8  Desc. Topic 9  ...  Channel Topic 6  Channel Topic 7  \\\n",
       "4985       0.002604       0.002604  ...         0.020833         0.020833   \n",
       "5936       0.000919       0.000919  ...         0.031250         0.031250   \n",
       "2325       0.001488       0.001488  ...         0.020833         0.020833   \n",
       "1850       0.002976       0.002976  ...         0.020833         0.020833   \n",
       "2330       0.001838       0.001838  ...         0.031250         0.031250   \n",
       "\n",
       "      Channel Topic 8  Channel Topic 9  Channel Topic 10  Channel Topic 11  \\\n",
       "4985         0.020833         0.020833          0.020833          0.020833   \n",
       "5936         0.531250         0.031250          0.031250          0.031250   \n",
       "2325         0.020833         0.020833          0.020833          0.020833   \n",
       "1850         0.687500         0.020833          0.020833          0.020833   \n",
       "2330         0.031250         0.031250          0.031250          0.031250   \n",
       "\n",
       "      Channel Topic 12  Channel Topic 13  Channel Topic 14  Channel Topic 15  \n",
       "4985          0.020833          0.020833          0.687500          0.020833  \n",
       "5936          0.031250          0.031250          0.031250          0.031250  \n",
       "2325          0.020833          0.020833          0.020833          0.020833  \n",
       "1850          0.020833          0.020833          0.020833          0.020833  \n",
       "2330          0.031250          0.031250          0.031250          0.531250  \n",
       "\n",
       "[5 rows x 64 columns]"
      ]
     },
     "execution_count": 44,
     "metadata": {},
     "output_type": "execute_result"
    }
   ],
   "source": [
    "#identify our categorical features for encoding which should just be the title\n",
    "cats = X_train.select_dtypes(\"object\").columns.tolist()\n",
    "X_train.head()"
   ]
  },
  {
   "cell_type": "code",
   "execution_count": 45,
   "metadata": {},
   "outputs": [
    {
     "data": {
      "text/plain": [
       "Pipeline(memory=None,\n",
       "         steps=[('ordinalencoder',\n",
       "                 OrdinalEncoder(cols=[], drop_invariant=False,\n",
       "                                handle_missing='value', handle_unknown='value',\n",
       "                                mapping=[], return_df=True, verbose=0)),\n",
       "                ('randomforestclassifier',\n",
       "                 RandomForestClassifier(bootstrap=True, class_weight=None,\n",
       "                                        criterion='gini', max_depth=None,\n",
       "                                        max_features='auto',\n",
       "                                        max_leaf_nodes=None,\n",
       "                                        min_impurity_decrease=0.0,\n",
       "                                        min_impurity_split=None,\n",
       "                                        min_samples_leaf=1, min_samples_split=2,\n",
       "                                        min_weight_fraction_leaf=0.0,\n",
       "                                        n_estimators=2500, n_jobs=None,\n",
       "                                        oob_score=False, random_state=None,\n",
       "                                        verbose=0, warm_start=False))],\n",
       "         verbose=False)"
      ]
     },
     "execution_count": 45,
     "metadata": {},
     "output_type": "execute_result"
    }
   ],
   "source": [
    "pipeline = make_pipeline(ce.OrdinalEncoder(cols = cats),RandomForestClassifier(n_estimators=2500))\n",
    "\n",
    "pipeline.fit(X_train, y_train)"
   ]
  },
  {
   "cell_type": "code",
   "execution_count": 46,
   "metadata": {},
   "outputs": [
    {
     "data": {
      "text/plain": [
       "0.5511811023622047"
      ]
     },
     "execution_count": 46,
     "metadata": {},
     "output_type": "execute_result"
    }
   ],
   "source": [
    "y_pred = pipeline.predict(X_test)\n",
    "accuracy_score(y_test, y_pred)"
   ]
  },
  {
   "cell_type": "code",
   "execution_count": 52,
   "metadata": {},
   "outputs": [
    {
     "data": {
      "text/plain": [
       "0.4031578445706045"
      ]
     },
     "execution_count": 52,
     "metadata": {},
     "output_type": "execute_result"
    }
   ],
   "source": [
    "f1_score(y_test, y_pred, average='weighted')"
   ]
  },
  {
   "cell_type": "code",
   "execution_count": 47,
   "metadata": {},
   "outputs": [
    {
     "data": {
      "image/png": "[encoded data removed]",
      "text/plain": [
       "<Figure size 1152x648 with 2 Axes>"
      ]
     },
     "metadata": {
      "needs_background": "light"
     },
     "output_type": "display_data"
    }
   ],
   "source": [
    "#make a confusion matrix function \n",
    "from sklearn.metrics import confusion_matrix\n",
    "from sklearn.utils.multiclass import unique_labels\n",
    "\n",
    "def plot_confusion_matrix(y_true, y_pred):\n",
    "    labels = unique_labels(y_true)\n",
    "    columns = [f'Predicted {label}' for label in labels]\n",
    "    index = [f'Actual {label}' for label in labels]\n",
    "    table = pd.DataFrame(confusion_matrix(y_true, y_pred), \n",
    "                         columns=columns, index=index)\n",
    "    plt.figure(figsize=(16,9))\n",
    "    return sns.heatmap(table, annot=True, fmt='d', cmap='viridis')\n",
    "\n",
    "plot_confusion_matrix(y_test, y_pred)\n",
    "plt.title('Random Forest Prediction Confusion Matrix', fontsize=20);"
   ]
  }
 ],
 "metadata": {
  "kernelspec": {
   "display_name": "Python 3",
   "language": "python",
   "name": "python3"
  },
  "language_info": {
   "codemirror_mode": {
    "name": "ipython",
    "version": 3
   },
   "file_extension": ".py",
   "mimetype": "text/x-python",
   "name": "python",
   "nbconvert_exporter": "python",
   "pygments_lexer": "ipython3",
   "version": "3.6.7"
  }
 },
 "nbformat": 4,
 "nbformat_minor": 1
}
